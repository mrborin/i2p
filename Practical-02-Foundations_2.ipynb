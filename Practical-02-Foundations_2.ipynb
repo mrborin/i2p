{
 "cells": [
  {
   "cell_type": "markdown",
   "metadata": {},
   "source": [
    "<div style=\"float:left\">\n",
    "    <h1 style=\"width:450px\">Practical 2: Foundations (Part 1)</h1>\n",
    "    <h2 style=\"width:450px\">Getting to grips with the 'Basics'</h2>\n",
    "</div>\n",
    "<div style=\"float:right\"><img width=\"100\" src=\"https://github.com/jreades/i2p/raw/master/img/casa_logo.jpg\" /></div>"
   ]
  },
  {
   "cell_type": "markdown",
   "metadata": {},
   "source": [
    "<div style=\"border: dotted 1px rgb(156,121,26); padding: 10px; margin: 5px; background-color: rgb(255,236,184); color: rgb(156,121,26)\">\n",
    "    <p><i>Note</i>: Once you have started a Docker container via <tt>docker run...</tt> the virtual machine <b>will continue running until you restart the computer or force it to shut down</b>. If you put the machine to sleep the virtual machine will wake up again when you wake up your computer. If you close the Terminal window the virtual machine will keep running regardless.</p>\n",
    "    <p><b>You <i>only</i> need to run the <tt>docker run...</tt> command after a restart of the computer or after explicitly shutting down the container.</b></p>\n",
    "</div>"
   ]
  },
  {
   "cell_type": "markdown",
   "metadata": {},
   "source": [
    "<div style=\"border: dotted 1px rgb(156,121,26); padding: 10px; margin: 5px; background-color: rgb(255,236,184); color: rgb(156,121,26)\">\n",
    "    <p><i>Note</i>: It's a little different for Anaconda Ptyhon users since you will stop <tt>jupyter lab</tt> when you close your Terminal or Aanaconda Prompt. So you need to type <tt>conda activate sds2021</tt> and <tt>jupyter lab</tt> every time you close the window in which you launched Jupyter Lab.</p>\n",
    "</div>"
   ]
  },
  {
   "cell_type": "markdown",
   "metadata": {},
   "source": [
    "<div style=\"border: dotted 1px red; padding: 10px; margin: 5px; background-color: rgb(255,249,249);\"><i>Remember</i>: please save your work regularly. This will be my only reminder about this!</div>"
   ]
  },
  {
   "cell_type": "markdown",
   "metadata": {},
   "source": [
    "Here's a short introduction to Practical 2.\n",
    "\n",
    "[![Practical 1 Video](https://github.com/jreades/i2p/raw/master/practicals/img/Practical_2_Still.png)](https://web.microsoftstream.com/video/ad9a2b98-c562-47d8-bd37-4119ea79e1f2)"
   ]
  },
  {
   "cell_type": "markdown",
   "metadata": {},
   "source": [
    "## Task 1: Setting Up GitHub\n",
    "\n",
    "I have [created a video](https://web.microsoftstream.com/video/29a31977-ff9e-4b53-92d3-ee3bb2a769f6) on Microsoft Streams that runs you through Tasks 1a and 1b (below). You can refer if you find the written instructions hard to follow for any reason or would like a visual check that you're doing the right thing!"
   ]
  },
  {
   "cell_type": "markdown",
   "metadata": {},
   "source": [
    "#### Task 1a: Configuring the GitHub defaults\n",
    "\n",
    "The first thing to do is set up the default username and email for GitHub. These can be changed on a project-by-project basis, but to begin with it's best to set up the _global defaults_. Using either the Terminal or Git Bash enter the following (replacing `<...>` with _your_ details):\n",
    "```bash\n",
    "cd \n",
    "git config --global user.email '<your GitHub email address>'\n",
    "git config --global user.name '<your GibHub username>'\n",
    "```"
   ]
  },
  {
   "cell_type": "markdown",
   "metadata": {},
   "source": [
    "#### Task 1b: Creating a Personal Access Token\n",
    "\n",
    "You do not want to have to enter your GitHub password every time you copy changes up to/down from GitHub, and you _don't_ want to paste your password in plain text into your code! The Personal Access Token is a way to manage this by issue special passwords that allow only limited access to your account.\n",
    "\n",
    "To create a Personal Access Token:\n",
    "- Point your browser to your GitHub User Page ([e.g. github.com/jreades](https://github.com/jreades))\n",
    "- Click on your user icon (at the top-right corner of the page) and pick `Settings`\n",
    "- Scroll down the [settings page](https://github.com/settings/profile) until you get to `Developer settings`\n",
    "- Click the `Developer settings` link to reach [this page](https://github.com/settings/apps) and then click on the `Personal access tokens` link.\n",
    "- Click the `Generate new token` button and set up the token so that it read/write `repo` privileges (full control of private repositories). You can change other settings (read/write packages, gists, and notifications) but this is not necessary.\n",
    "- Copy the resulting token to somewhere safe as you will need it again!"
   ]
  },
  {
   "cell_type": "markdown",
   "metadata": {},
   "source": [
    "#### Task 1c: Cloning Your Repository\n",
    "\n",
    "The first thing that we need to do is to get a clone (i.e. copy) of the repository that you created last week on GitHub on to your own computer. This is surprisingly straightforward provided that you have installed the command line tools.\n",
    "\n",
    "From your private repository page, click on the green button labeled 'Code' visible in the screenshot below:\n",
    "\n",
    "![Screenshot of cloning interface](https://github.com/jreades/i2p/raw/master/lectures/img/Cloning.png)\n",
    "\n",
    "You should then copy the URL (visible in my screenshot as `https://github.com/jreades/i2p.git`) and, from the command line, navigate to the location where you want your repository to be stored on your _local_ machine. For instance, if I wanted to keep my files in a folder inside the 'Introduction to Programming' directory then I might do this:\n",
    "```bash\n",
    "cd ~/Documents/CASA/Modules/fsds/\n",
    "git clone <url that you copied from browser>\n",
    "```\n",
    "The first time that you do this, you may need to provide login information. If you are asked to do this now then please just use your GitHub username and password (we'll use the token later)."
   ]
  },
  {
   "cell_type": "markdown",
   "metadata": {},
   "source": [
    "#### Task 1d: Adding Local Files to Your Repository\n",
    "\n",
    "In order to tie together the different concepts covered above, we now need to add Practicals 1 and 2 from my [i2p repository](https://github.com/jreades/i2p) to your own GitHub repo.\n",
    "\n",
    "Right now, the easiest way to do this is to open both practicals as Raw text in your browser:\n",
    "\n",
    "- [Practical 1](https://github.com/jreades/i2p/blob/master/practicals/Practical-01-Getting_Started.ipynb)\n",
    "- [Practical 2](https://github.com/jreades/i2p/blob/master/practicals/Practical-02-Foundations_1.ipynb)\n",
    "\n",
    "You will then need to:\n",
    "\n",
    "1. Save both files to your computer as notebooks (with the extension `.ipynb`). Remember that you need to remove the `.txt` extension for these files to be treated as notebooks, not plain text. You can do this at any point (even once using Jupyter) but it may be easiest when you download them.\n",
    "2. Move the files to your repostiory folder.\n",
    "\n",
    "In the Terminal/Git Bash we now need add these files to Git so that it knows to track them. Just putting them in a directory associated with a repo does _not_ mean that Git will pay attention to them:\n",
    "```bash\n",
    "cd <the folder for your git hub repo>\n",
    "git add Practical-01-Getting_Started.ipynb\n",
    "git add Practical-02-Foundations_1.ipynb\n",
    "git commit -m \"Adding first notebooks to repo.\"\n",
    "```"
   ]
  },
  {
   "cell_type": "markdown",
   "metadata": {},
   "source": [
    "#### Task 1e: Storing Credentials & 'Pushing'\n",
    "\n",
    "You can now activate the credtial helper that will store your Personal access token:\n",
    "```bash\n",
    "git config credential.helper store\n",
    "git push\n",
    "```\n",
    "\n",
    "When you type `git push` you will be asked for your username and password. _This_ time you should use the new Personal access token as your password. You should not be asked again for pushing or pulling data into this GitHub repository."
   ]
  },
  {
   "cell_type": "markdown",
   "metadata": {},
   "source": [
    "## Task 2: Launch Jupyter Lab\n",
    "\n",
    "#### On Docker \n",
    "\n",
    "If you are able to run Docker, then Jupyter Lab will have started automatically for you when you ran the command `docker run`. This means that you should be able to visit: [localhost:8888](http://localhost:8888/lab/) and see the Jupyter Lab interface.\n",
    "\n",
    "#### On Anaconda Python\n",
    "\n",
    "If you were forced to run Anaconda Python directly, then you will need to start Jupyter Lab yourself by launching either the Terminal (Mac) or Anaconda Prompt (Windows) and running:\n",
    "\n",
    "```bash\n",
    "cd ~/Documents/CASA/modules/\n",
    "conda activate sds2020\n",
    "jupyter lab\n",
    "```"
   ]
  },
  {
   "cell_type": "markdown",
   "metadata": {
    "geopyter": {
     "Contributors": "James Millington (james.millington@kcl.ac.uk)",
     "git": {
      "active_branch": "master",
      "author.name": "Jon Reades",
      "authored_date": "2017-08-17 19:06:58",
      "committed_date": "2017-08-17 19:06:58",
      "committer.name": "Jon Reades",
      "sha": "5e3b396ae18a982d693c4bfd86c721c7e1e21051"
     }
    }
   },
   "source": [
    "## Task 3: Python Variables\n",
    "\n",
    "<div style=\"border: dotted 1px red; padding: 10px; margin: 5px; background-color: rgb(255,225,225);\"><i>Remember</i>: To run the code in a Code Cell you either click the 'play' icon above (the sideways triangle), or type `Ctrl`+`Enter`. I have <i>tried</i> to indicate where <b>one more lines of code is expected using <tt>??</tt></b>.</div>"
   ]
  },
  {
   "cell_type": "markdown",
   "metadata": {
    "geopyter": {
     "Contributors": "James Millington (james.millington@kcl.ac.uk)",
     "git": {
      "active_branch": "master",
      "author.name": "Jon Reades",
      "authored_date": "2017-08-17 19:06:58",
      "committed_date": "2017-08-17 19:06:58",
      "committer.name": "Jon Reades",
      "sha": "5e3b396ae18a982d693c4bfd86c721c7e1e21051"
     }
    }
   },
   "source": [
    "#### 3.1 Variables and Assignment"
   ]
  },
  {
   "cell_type": "markdown",
   "metadata": {},
   "source": [
    "_Some_ of the lines of code below are valid Python, but others _may_ have a problem that will cause Python to generate an error. Each error can be fixed by changing _one_ characters. See if you can work out which ones you need to fix **before running the code**:\n",
    "\n",
    "<div style=\"border: dotted 1px green; padding: 10px; margin: 5px; background-color: rgb(249,255,249);\"><br><i>Hint</i>: Pay attention to the colour of the code, that is giving you clues as to where problems are likely to be because it means the Python 'interpreter' is having trouble understanding what you mean...</div>"
   ]
  },
  {
   "cell_type": "code",
   "execution_count": 7,
   "metadata": {},
   "outputs": [
    {
     "data": {
      "text/plain": [
       "7"
      ]
     },
     "execution_count": 7,
     "metadata": {},
     "output_type": "execute_result"
    }
   ],
   "source": [
    "Pi = 3.14159\n",
    "pi = 3.14159\n",
    "pi3 = 3.14159 * 3\n",
    "pi_2 = 3.14159 ** 2\n",
    "My_Radius = 5\n",
    "3 ^ 2\n",
    "4 ^ 3"
   ]
  },
  {
   "cell_type": "markdown",
   "metadata": {},
   "source": [
    "**Before running the code**, work out what the output will be for _each_ of the `print` commands below when the code is executed?\n",
    "\n",
    "<div style=\"border: dotted 1px green; padding: 10px; margin: 5px; background-color: rgb(249,255,249);\"><br><i>Hint</i>: This is a question about variable <i>types</i> and how operators work with different variable types...</div>\n",
    "\n",
    "**Answers"
   ]
  },
  {
   "cell_type": "code",
   "execution_count": 8,
   "metadata": {},
   "outputs": [
    {
     "name": "stdout",
     "output_type": "stream",
     "text": [
      "22\n",
      "22\n",
      "4\n",
      "16\n",
      "0.5\n",
      "<class 'str'>\n",
      "<class 'int'>\n",
      "<class 'int'>\n",
      "<class 'float'>\n"
     ]
    }
   ],
   "source": [
    "x = \"2\"\n",
    "y = z = 2\n",
    "\n",
    "print(x * y)\n",
    "print(x + x)\n",
    "print(y * z)\n",
    "print((y + z) ** z)\n",
    "print(y / (y + z))\n",
    "\n",
    "print(type(x * y))\n",
    "print(type(y * z))\n",
    "print(type((y + z) ** z))\n",
    "print(type(y / (y + z)))"
   ]
  },
  {
   "cell_type": "markdown",
   "metadata": {
    "geopyter": {
     "Contributors": "James Millington (james.millington@kcl.ac.uk)",
     "git": {
      "active_branch": "master",
      "author.name": "Jon Reades",
      "authored_date": "2017-08-17 19:06:58",
      "committed_date": "2017-08-17 19:06:58",
      "committer.name": "Jon Reades",
      "sha": "5e3b396ae18a982d693c4bfd86c721c7e1e21051"
     }
    }
   },
   "source": [
    "**Before running the code**, work out what the values of `x`, `y` and `z` will be after every line of code in the block has been executed.\n",
    "\n",
    "<div style=\"border: dotted 1px green; padding: 10px; margin: 5px; background-color: rgb(249,255,249);\"><br><i>Hint</i>: This is a question about variable <i>states</i> and assignment...</div>"
   ]
  },
  {
   "cell_type": "code",
   "execution_count": 18,
   "metadata": {
    "geopyter": {
     "Contributors": "James Millington (james.millington@kcl.ac.uk)",
     "git": {
      "active_branch": "master",
      "author.name": "Jon Reades",
      "authored_date": "2017-08-17 19:06:58",
      "committed_date": "2017-08-17 19:06:58",
      "committer.name": "Jon Reades",
      "sha": "5e3b396ae18a982d693c4bfd86c721c7e1e21051"
     }
    }
   },
   "outputs": [
    {
     "name": "stdout",
     "output_type": "stream",
     "text": [
      "x=22\n",
      "32\n",
      "22\n"
     ]
    }
   ],
   "source": [
    "x = 12\n",
    "y = 10\n",
    "\n",
    "z = x + y\n",
    "x = x + y\n",
    "y = z + y\n",
    "print(\"x=\" + str(x))\n",
    "print(y)\n",
    "print(z)"
   ]
  },
  {
   "cell_type": "markdown",
   "metadata": {
    "geopyter": {
     "Contributors": "James Millington (james.millington@kcl.ac.uk)",
     "git": {
      "active_branch": "master",
      "author.name": "Jon Reades",
      "authored_date": "2017-08-17 19:06:58",
      "committed_date": "2017-08-17 19:06:58",
      "committer.name": "Jon Reades",
      "sha": "5e3b396ae18a982d693c4bfd86c721c7e1e21051"
     }
    }
   },
   "source": [
    "Once you have worked out what you think `x`, `y` and `z` are, add `print(...)` statements to the code above to check your answers!\n",
    "\n",
    "Make sure you understand the results you find. **Ask someone if you need help to understand.**"
   ]
  },
  {
   "cell_type": "markdown",
   "metadata": {
    "geopyter": {
     "Contributors": "James Millington (james.millington@kcl.ac.uk)",
     "git": {
      "active_branch": "master",
      "author.name": "Jon Reades",
      "authored_date": "2017-08-17 19:06:58",
      "committed_date": "2017-08-17 19:06:58",
      "committer.name": "Jon Reades",
      "sha": "5e3b396ae18a982d693c4bfd86c721c7e1e21051"
     }
    }
   },
   "source": [
    "#### 3.2 Operators & Precedence\n",
    "\n",
    "**Before running the code**, work out what the values of `x`, `y` and `z` will be after every line of code in the block has been executed.\n",
    "\n",
    "<div style=\"border: dotted 1px green; padding: 10px; margin: 5px; background-color: rgb(249,255,249);\"><br><i>Hint</i>: This question is about what operations are done <i>first</i> based on the type of operation and the presence of parentheses... it's the same as it would be for a maths problem!</div>"
   ]
  },
  {
   "cell_type": "code",
   "execution_count": 19,
   "metadata": {
    "geopyter": {
     "Contributors": "James Millington (james.millington@kcl.ac.uk)",
     "git": {
      "active_branch": "master",
      "author.name": "Jon Reades",
      "authored_date": "2017-08-17 19:06:58",
      "committed_date": "2017-08-17 19:06:58",
      "committer.name": "Jon Reades",
      "sha": "5e3b396ae18a982d693c4bfd86c721c7e1e21051"
     }
    }
   },
   "outputs": [
    {
     "name": "stdout",
     "output_type": "stream",
     "text": [
      "2.5\n",
      "2.25\n",
      "2.5\n"
     ]
    }
   ],
   "source": [
    "x = 1 + 2 * 3 / 4\n",
    "y = (1 + 2) * (3 / 4)\n",
    "z = 1 + 2 * (3 / 4)\n",
    "\n",
    "print(x)\n",
    "print(y)\n",
    "print(z)"
   ]
  },
  {
   "cell_type": "markdown",
   "metadata": {
    "geopyter": {
     "Contributors": "James Millington (james.millington@kcl.ac.uk)",
     "git": {
      "active_branch": "master",
      "author.name": "Jon Reades",
      "authored_date": "2017-08-17 19:06:58",
      "committed_date": "2017-08-17 19:06:58",
      "committer.name": "Jon Reades",
      "sha": "5e3b396ae18a982d693c4bfd86c721c7e1e21051"
     }
    }
   },
   "source": [
    "Once you have calculated what you think `x`, `y` and `z` are, run the code to check."
   ]
  },
  {
   "cell_type": "markdown",
   "metadata": {},
   "source": [
    "Now let's look at some of the stranger operators. Many of these can be very useful in more complex code but can seem a little pointless now.\n",
    "\n",
    "**Work out what operator should replace the `??`** in each of the lines of code below to produce the output I've shown in the comments. I've mixed in ones you have seen above with ones that we've not seen before.\n",
    "\n",
    "<div style=\"border: dotted 1px green; padding: 10px; margin: 5px; background-color: rgb(249,255,249);\"><br><i>Hint</i>: This question is asking you to make sense of the operator in order to guess the answer.</div>"
   ]
  },
  {
   "cell_type": "code",
   "execution_count": 32,
   "metadata": {},
   "outputs": [
    {
     "name": "stdout",
     "output_type": "stream",
     "text": [
      "1\n",
      "13\n",
      "False\n",
      "1000\n",
      "7\n",
      "3\n"
     ]
    }
   ],
   "source": [
    "x = 10\n",
    "y = 3\n",
    "\n",
    "print(x % y)  # 1\n",
    "print(x + y)  # 13\n",
    "print(x < y)  # False\n",
    "print(x ** y)  # 1000\n",
    "print(x - y)  # 7\n",
    "print(x // y)  # 3"
   ]
  },
  {
   "cell_type": "markdown",
   "metadata": {
    "geopyter": {
     "Contributors": "James Millington (james.millington@kcl.ac.uk)",
     "git": {
      "active_branch": "master",
      "author.name": "Jon Reades",
      "authored_date": "2017-08-17 19:06:58",
      "committed_date": "2017-08-17 19:06:58",
      "committer.name": "Jon Reades",
      "sha": "5e3b396ae18a982d693c4bfd86c721c7e1e21051"
     }
    }
   },
   "source": [
    "#### 3.3 Applying What We've Learned\n",
    "\n",
    "Now we are going to take what we've learned and apply it in a more 'abstract' way: how do we translate some well-known mathematical formulae _into code_? In particular, I'm interested in the formula for the volume of a sphere (and this gives me a chance to show that Notebooks can show formulae as well!):\n",
    "\n",
    "$$\n",
    "V = \\frac{4}{3}\\pi r^{3}\n",
    "$$\n",
    "\n",
    "So, given a sphere with a **diameter** of 12cm, calculate its volume:\n",
    "\n",
    "<div style=\"border: dotted 1px green; padding: 10px; margin: 5px; background-color: rgb(249,255,249);\"><br><i>Hint</i>: I would strongly advise you to Google: `python constant pi` and look for code that will save you having to look up the value of $\\pi$.</div>"
   ]
  },
  {
   "cell_type": "code",
   "execution_count": 39,
   "metadata": {
    "geopyter": {
     "Contributors": "James Millington (james.millington@kcl.ac.uk)",
     "git": {
      "active_branch": "master",
      "author.name": "Jon Reades",
      "authored_date": "2017-08-17 19:06:58",
      "committed_date": "2017-08-17 19:06:58",
      "committer.name": "Jon Reades",
      "sha": "5e3b396ae18a982d693c4bfd86c721c7e1e21051"
     }
    }
   },
   "outputs": [
    {
     "name": "stdout",
     "output_type": "stream",
     "text": [
      "904.7786842338603\n"
     ]
    }
   ],
   "source": [
    "import math\n",
    "\n",
    "r = 6\n",
    "print(4 / 3 * math.pi * r ** 3)"
   ]
  },
  {
   "cell_type": "markdown",
   "metadata": {},
   "source": [
    "I get an answer of 904.779cm$^3$."
   ]
  },
  {
   "cell_type": "markdown",
   "metadata": {},
   "source": [
    "Now, given a sphere of volume 14,137cm$^3$ calculate its radius to the **nearest whole number**. The formula for this can be worked out as:"
   ]
  },
  {
   "cell_type": "markdown",
   "metadata": {},
   "source": [
    "\\begin{align*}\n",
    "\\frac{3}{4}V &= \\pi r^{3} \\\\\n",
    "\\frac{3}{4}\\frac{V}{\\pi} &= r^{3} \\\\\n",
    "(\\frac{3}{4}\\frac{V}{\\pi})^{1/3} &= r\n",
    "\\end{align*}"
   ]
  },
  {
   "cell_type": "markdown",
   "metadata": {
    "geopyter": {
     "Contributors": "James Millington (james.millington@kcl.ac.uk)",
     "git": {
      "active_branch": "master",
      "author.name": "Jon Reades",
      "authored_date": "2017-08-17 19:06:58",
      "committed_date": "2017-08-17 19:06:58",
      "committer.name": "Jon Reades",
      "sha": "5e3b396ae18a982d693c4bfd86c721c7e1e21051"
     }
    }
   },
   "source": [
    "If you can't remember how to rearrange formulae this would be a good skill to refresh!"
   ]
  },
  {
   "cell_type": "code",
   "execution_count": 43,
   "metadata": {},
   "outputs": [
    {
     "name": "stdout",
     "output_type": "stream",
     "text": [
      "15\n"
     ]
    }
   ],
   "source": [
    "v = 14137\n",
    "r = (3 / 4 * v / math.pi) ** (1 / 3)\n",
    "print(round(r))"
   ]
  },
  {
   "cell_type": "markdown",
   "metadata": {},
   "source": [
    "I get an answer of 15cm."
   ]
  },
  {
   "cell_type": "markdown",
   "metadata": {},
   "source": [
    "## Task 4: Python Conditions"
   ]
  },
  {
   "cell_type": "markdown",
   "metadata": {
    "geopyter": {
     "Contributors": "James Millington (james.millington@kcl.ac.uk)",
     "git": {
      "active_branch": "master",
      "author.name": "Jon Reades",
      "authored_date": "2017-08-17 19:06:58",
      "committed_date": "2017-08-17 19:06:58",
      "committer.name": "Jon Reades",
      "sha": "5e3b396ae18a982d693c4bfd86c721c7e1e21051"
     }
    }
   },
   "source": [
    "#### 4.1 Working with Conditions\n",
    "\n",
    "**Change the code below** so that you get the following output:\n",
    "1. Code prints `Hours are greater than zero` when `hours` is set to 10\n",
    "2. Code prints `Hours are greater than zero` _and_ `Hours are less than 10` when `hours` is set to 2 \n",
    "3. Code prints `Hours are less than 10` when `hours` is set to 0\n",
    "\n",
    "<div style=\"border: dotted 1px green; padding: 10px; margin: 5px; background-color: rgb(249,255,249);\"><br><i>Hint</i>: You will need to add two lines, <i>and</i> change the two lines I've provided as a starting point.</div>"
   ]
  },
  {
   "cell_type": "code",
   "execution_count": 58,
   "metadata": {},
   "outputs": [
    {
     "name": "stdout",
     "output_type": "stream",
     "text": [
      "Hours are greater than zero \n"
     ]
    }
   ],
   "source": [
    "hours = 10\n",
    "\n",
    "if hours > 0:\n",
    "    print(\"Hours are greater than zero \")\n",
    "if hours < 10:\n",
    "    print(\"Hours are less than 10\")\n",
    "\n"
   ]
  },
  {
   "cell_type": "markdown",
   "metadata": {
    "geopyter": {
     "Contributors": "James Millington (james.millington@kcl.ac.uk)",
     "git": {
      "active_branch": "master",
      "author.name": "Jon Reades",
      "authored_date": "2017-08-17 19:06:58",
      "committed_date": "2017-08-17 19:06:58",
      "committer.name": "Jon Reades",
      "sha": "5e3b396ae18a982d693c4bfd86c721c7e1e21051"
     }
    }
   },
   "source": [
    "#### 4.2 Flow Control\n",
    "\n",
    "Using the flow chart shown in the image below as a model, write the code to make this condition work. You will need to complete the code such that it produces the following:\n",
    "1. When `a = 2` and `b = 2` four lines of output will be written\n",
    "2. When `a = 1` and `b = 2` one line of output will be written\n",
    "\n",
    "<img src=https://kingsgeocomputation.files.wordpress.com/2016/09/geocompweek2_task3_3.jpg width=600>"
   ]
  },
  {
   "cell_type": "code",
   "execution_count": 61,
   "metadata": {},
   "outputs": [
    {
     "name": "stdout",
     "output_type": "stream",
     "text": [
      "inside 1\n",
      "inside 2\n",
      "inside\n",
      "after condition\n"
     ]
    }
   ],
   "source": [
    "a = 2\n",
    "b = 2\n",
    "\n",
    "# <your code here>\n",
    "x = a\n",
    "if x == b:\n",
    "    print(\"inside 1\")\n",
    "    print(\"inside 2\")\n",
    "    print(\"inside\")\n",
    "print(\"after condition\")"
   ]
  },
  {
   "cell_type": "markdown",
   "metadata": {},
   "source": [
    "## Task 5: Python Logic"
   ]
  },
  {
   "cell_type": "markdown",
   "metadata": {
    "geopyter": {
     "Contributors": "James Millington (james.millington@kcl.ac.uk)",
     "git": {
      "active_branch": "master",
      "author.name": "Jon Reades",
      "authored_date": "2017-08-17 19:06:58",
      "committed_date": "2017-08-17 19:06:58",
      "committer.name": "Jon Reades",
      "sha": "5e3b396ae18a982d693c4bfd86c721c7e1e21051"
     }
    }
   },
   "source": [
    "#### 5.1 It's All Quite Logical...\n",
    "\n",
    "Read the code in the cell below. "
   ]
  },
  {
   "cell_type": "code",
   "execution_count": 62,
   "metadata": {
    "geopyter": {
     "Contributors": "James Millington (james.millington@kcl.ac.uk)",
     "git": {
      "active_branch": "master",
      "author.name": "Jon Reades",
      "authored_date": "2017-08-17 19:06:58",
      "committed_date": "2017-08-17 19:06:58",
      "committer.name": "Jon Reades",
      "sha": "5e3b396ae18a982d693c4bfd86c721c7e1e21051"
     }
    }
   },
   "outputs": [
    {
     "name": "stdout",
     "output_type": "stream",
     "text": [
      "Aled\n",
      "Sarah\n"
     ]
    }
   ],
   "source": [
    "x = 0\n",
    "\n",
    "if x > 0 and x < 5:\n",
    "    print(\"Joe\")\n",
    "\n",
    "if x > 0 or x < 5:\n",
    "    print(\"Aled\")\n",
    "\n",
    "if not (x > 0):\n",
    "    print(\"Sarah\")"
   ]
  },
  {
   "cell_type": "markdown",
   "metadata": {
    "geopyter": {
     "Contributors": "James Millington (james.millington@kcl.ac.uk)",
     "git": {
      "active_branch": "master",
      "author.name": "Jon Reades",
      "authored_date": "2017-08-17 19:06:58",
      "committed_date": "2017-08-17 19:06:58",
      "committer.name": "Jon Reades",
      "sha": "5e3b396ae18a982d693c4bfd86c721c7e1e21051"
     }
    }
   },
   "source": [
    "**Before** adding a value for `x` and running the code above, answer the following questions in the Markdown cell below:\n",
    "\n",
    "1. What names are name(s) are printed when `x = 5`? \n",
    "2. What value(s) can `x` be when the names `Joe` and `Aled` are printed?  \n",
    "3. What name(s) are printed when `x = -1`?\n",
    "4. Is there any value for which all three names will be printed?\n"
   ]
  },
  {
   "cell_type": "markdown",
   "metadata": {
    "geopyter": {
     "Contributors": "James Millington (james.millington@kcl.ac.uk)",
     "git": {
      "active_branch": "master",
      "author.name": "Jon Reades",
      "authored_date": "2017-08-17 19:06:58",
      "committed_date": "2017-08-17 19:06:58",
      "committer.name": "Jon Reades",
      "sha": "5e3b396ae18a982d693c4bfd86c721c7e1e21051"
     }
    }
   },
   "source": [
    "<div style=\"border: dotted 1px green; padding: 10px; margin: 5px; background-color: rgb(249,255,249);\"><i>Hint</i>: Double-click here to start editing this cell.</div>\n",
    "\n",
    "**Answers**\n",
    "\n",
    "1. Aled\n",
    "2. x>0 and x<5\n",
    "3. Sarah\n",
    "4. no\n",
    "\n",
    "When you're finished, run the code above and test your answer!"
   ]
  },
  {
   "cell_type": "markdown",
   "metadata": {
    "geopyter": {
     "Contributors": "James Millington (james.millington@kcl.ac.uk)",
     "git": {
      "active_branch": "master",
      "author.name": "Jon Reades",
      "authored_date": "2017-08-17 19:06:58",
      "committed_date": "2017-08-17 19:06:58",
      "committer.name": "Jon Reades",
      "sha": "5e3b396ae18a982d693c4bfd86c721c7e1e21051"
     }
    }
   },
   "source": [
    "#### 5.2 Logic (Cont'd)\n",
    "\n",
    "Study the flow chart below.\n",
    "\n",
    "<img src=https://kingsgeocomputation.files.wordpress.com/2016/09/geocompweek2_task3_5.jpg width = 600>\n",
    "\n",
    "In the cell below, use the for loop _already set up_ to as a starting point for implementing the flow chart shown above for values of `x` between 0 and 9.\n",
    "\n",
    "<div style=\"border: dotted 1px green; padding: 10px; margin: 5px; background-color: rgb(249,255,249);\"><i>Hint</i>: This will require you to combine logic with one of the operators that we saw earlier. Also note the <i>new</i> iterator that we've got here: <tt>range(&lt;start&gt;,&lg;stop&gt;)</tt> to create a <i>range</i> of numbers between two other numbers.</div>\n"
   ]
  },
  {
   "cell_type": "code",
   "execution_count": 67,
   "metadata": {},
   "outputs": [
    {
     "name": "stdout",
     "output_type": "stream",
     "text": [
      "0\n",
      "x is even\n",
      "0\n",
      "1\n",
      "x is odd\n",
      "1\n",
      "2\n",
      "x is even\n",
      "2\n",
      "3\n",
      "x is odd\n",
      "3\n",
      "4\n",
      "x is even\n",
      "4\n",
      "5\n",
      "x is odd\n",
      "5\n",
      "6\n",
      "x is even\n",
      "6\n",
      "7\n",
      "x is odd\n",
      "7\n",
      "8\n",
      "x is even\n",
      "8\n"
     ]
    }
   ],
   "source": [
    "for x in range(0,9):\n",
    "    print(x)\n",
    "    if x % 2 == 0:\n",
    "        print(\"x is even\")\n",
    "    else:\n",
    "        print(\"x is odd\")\n",
    "    print(x)"
   ]
  },
  {
   "cell_type": "markdown",
   "metadata": {
    "geopyter": {
     "Contributors": "James Millington (james.millington@kcl.ac.uk)",
     "git": {
      "active_branch": "master",
      "author.name": "Jon Reades",
      "authored_date": "2017-08-17 19:06:58",
      "committed_date": "2017-08-17 19:06:58",
      "committer.name": "Jon Reades",
      "sha": "5e3b396ae18a982d693c4bfd86c721c7e1e21051"
     }
    }
   },
   "source": [
    "#### 5.3 'Nested' Conditionals\n",
    "\n",
    "Conditional statements can be nested within one another. That is, Python evaluates the first, or 'outer', condition and can then evaluate secondary, or 'inner', conditions. The code below shows an example of this. "
   ]
  },
  {
   "cell_type": "code",
   "execution_count": null,
   "metadata": {
    "geopyter": {
     "Contributors": "James Millington (james.millington@kcl.ac.uk)",
     "git": {
      "active_branch": "master",
      "author.name": "Jon Reades",
      "authored_date": "2017-08-17 19:06:58",
      "committed_date": "2017-08-17 19:06:58",
      "committer.name": "Jon Reades",
      "sha": "5e3b396ae18a982d693c4bfd86c721c7e1e21051"
     }
    }
   },
   "outputs": [],
   "source": [
    "x = 5\n",
    "y = 4\n",
    "\n",
    "if x != y:  # line 1\n",
    "    print(\"x is not equal to y\")\n",
    "\n",
    "    if x > y:  # line 4\n",
    "        print(\"x is greater than y\")\n",
    "\n",
    "    else:  # line 7\n",
    "        print(\"x is less than y\")\n",
    "\n",
    "else:\n",
    "    print(\"x is equal to y\")"
   ]
  },
  {
   "cell_type": "markdown",
   "metadata": {
    "geopyter": {
     "Contributors": "James Millington (james.millington@kcl.ac.uk)",
     "git": {
      "active_branch": "master",
      "author.name": "Jon Reades",
      "authored_date": "2017-08-17 19:06:58",
      "committed_date": "2017-08-17 19:06:58",
      "committer.name": "Jon Reades",
      "sha": "5e3b396ae18a982d693c4bfd86c721c7e1e21051"
     }
    }
   },
   "source": [
    "Note how the indentation makes it easier to work out which ‘level’ (outer or inner condition) the code is operating on. In the code above, lines 4 and 7 are at the same indentation meaning that _both will be skipped_ if the initial condition (on line 1) is `False`. \n",
    "\n",
    "To check you understand how the code above works:\n",
    "1. Change `<insert conclusion here>` to a string that explains the condition of `x` and `y`\n",
    "2. For `x = 2` and `y = 3`, type below what line(s) will be output:"
   ]
  },
  {
   "cell_type": "markdown",
   "metadata": {
    "geopyter": {
     "Contributors": "James Millington (james.millington@kcl.ac.uk)",
     "git": {
      "active_branch": "master",
      "author.name": "Jon Reades",
      "authored_date": "2017-08-17 19:06:58",
      "committed_date": "2017-08-17 19:06:58",
      "committer.name": "Jon Reades",
      "sha": "5e3b396ae18a982d693c4bfd86c721c7e1e21051"
     }
    }
   },
   "source": [
    "**Answer** _Edit this cell!_\n",
    "\n",
    "1. x is equal to y\n",
    "2. x is not equal to y\n",
    "x is less than y"
   ]
  },
  {
   "cell_type": "markdown",
   "metadata": {
    "geopyter": {
     "Contributors": "James Millington (james.millington@kcl.ac.uk)",
     "git": {
      "active_branch": "master",
      "author.name": "Jon Reades",
      "authored_date": "2017-08-17 19:06:58",
      "committed_date": "2017-08-17 19:06:58",
      "committer.name": "Jon Reades",
      "sha": "5e3b396ae18a982d693c4bfd86c721c7e1e21051"
     }
    }
   },
   "source": [
    "Great! You should now have a pretty good understanding of how conditional and logical operators work. This understanding will be handy in future as we work through other computational concepts."
   ]
  },
  {
   "cell_type": "markdown",
   "metadata": {},
   "source": [
    "## Task 6: Python Lists"
   ]
  },
  {
   "cell_type": "markdown",
   "metadata": {},
   "source": [
    "#### 6.1 Who's in the List?\n",
    "\n",
    "Here we are looking to interact with lists in a straightforward way that will help you to understand accessing them using indexes and slices, and searching:"
   ]
  },
  {
   "cell_type": "code",
   "execution_count": 101,
   "metadata": {},
   "outputs": [
    {
     "name": "stdout",
     "output_type": "stream",
     "text": [
      "London\n",
      "Tokyo\n",
      "Beijing Beijing\n",
      "['Beijing', 'Tokyo']\n",
      "[]\n",
      "0\n"
     ]
    }
   ],
   "source": [
    "cities = ['New York', 'London', 'Beijing', 'Tokyo', 'Delhi']\n",
    "\n",
    "# Print out London from cities:\n",
    "print( cities[1] )\n",
    "\n",
    "# Print out Tokyo using *negative* indexing:\n",
    "print( cities[3] )\n",
    "\n",
    "# Print out Beijing and Tokyo using a list slice\n",
    "print( cities[2],cities[2] )\n",
    "\n",
    "# Print out London to Delhi using a slice\n",
    "print( cities[2:4] ) # You could also do cities[1:5] but this way is neater\n",
    "\n",
    "# Combine positive and negative indexing to print out London, Beijing and Tokyo using a list slice\n",
    "print( cities[-2:-5] )\n",
    "\n",
    "# Print out the position of New York in the list by searching for it (i.e. you can't just type 0)\n",
    "print( cities.index(\"New York\") )"
   ]
  },
  {
   "cell_type": "markdown",
   "metadata": {},
   "source": [
    "#### 6.2 Manipulating Lists\n",
    "\n",
    "Let's break a few things:"
   ]
  },
  {
   "cell_type": "code",
   "execution_count": 70,
   "metadata": {},
   "outputs": [
    {
     "ename": "IndexError",
     "evalue": "list index out of range",
     "output_type": "error",
     "traceback": [
      "\u001b[0;31m---------------------------------------------------------------------------\u001b[0m",
      "\u001b[0;31mIndexError\u001b[0m                                Traceback (most recent call last)",
      "\u001b[0;32m/tmp/ipykernel_130/3547076433.py\u001b[0m in \u001b[0;36m<module>\u001b[0;34m\u001b[0m\n\u001b[1;32m      1\u001b[0m \u001b[0;31m# Cause an 'IndexError: list index out of range' errr\u001b[0m\u001b[0;34m\u001b[0m\u001b[0;34m\u001b[0m\u001b[0;34m\u001b[0m\u001b[0m\n\u001b[1;32m      2\u001b[0m \u001b[0mcities\u001b[0m \u001b[0;34m=\u001b[0m \u001b[0;34m[\u001b[0m\u001b[0;34m'New York'\u001b[0m\u001b[0;34m,\u001b[0m \u001b[0;34m'London'\u001b[0m\u001b[0;34m,\u001b[0m \u001b[0;34m'Beijing'\u001b[0m\u001b[0;34m,\u001b[0m \u001b[0;34m'Tokyo'\u001b[0m\u001b[0;34m,\u001b[0m \u001b[0;34m'Delhi'\u001b[0m\u001b[0;34m]\u001b[0m\u001b[0;34m\u001b[0m\u001b[0;34m\u001b[0m\u001b[0m\n\u001b[0;32m----> 3\u001b[0;31m \u001b[0mprint\u001b[0m\u001b[0;34m(\u001b[0m\u001b[0mcities\u001b[0m\u001b[0;34m[\u001b[0m\u001b[0;36m10\u001b[0m\u001b[0;34m]\u001b[0m\u001b[0;34m)\u001b[0m\u001b[0;34m\u001b[0m\u001b[0;34m\u001b[0m\u001b[0m\n\u001b[0m",
      "\u001b[0;31mIndexError\u001b[0m: list index out of range"
     ]
    }
   ],
   "source": [
    "# Cause an 'IndexError: list index out of range' errr\n",
    "cities = ['New York', 'London', 'Beijing', 'Tokyo', 'Delhi']\n",
    "print(cities[10])"
   ]
  },
  {
   "cell_type": "code",
   "execution_count": 77,
   "metadata": {},
   "outputs": [
    {
     "ename": "ValueError",
     "evalue": "'Toronto' is not in list",
     "output_type": "error",
     "traceback": [
      "\u001b[0;31m---------------------------------------------------------------------------\u001b[0m",
      "\u001b[0;31mValueError\u001b[0m                                Traceback (most recent call last)",
      "\u001b[0;32m/tmp/ipykernel_130/1299545692.py\u001b[0m in \u001b[0;36m<module>\u001b[0;34m\u001b[0m\n\u001b[1;32m      1\u001b[0m \u001b[0;31m# Cause a ValueError using the city of Toronto\u001b[0m\u001b[0;34m\u001b[0m\u001b[0;34m\u001b[0m\u001b[0;34m\u001b[0m\u001b[0m\n\u001b[1;32m      2\u001b[0m \u001b[0mcities\u001b[0m \u001b[0;34m=\u001b[0m \u001b[0;34m[\u001b[0m\u001b[0;34m'New York'\u001b[0m\u001b[0;34m,\u001b[0m \u001b[0;34m'London'\u001b[0m\u001b[0;34m,\u001b[0m \u001b[0;34m'Beijing'\u001b[0m\u001b[0;34m,\u001b[0m \u001b[0;34m'Tokyo'\u001b[0m\u001b[0;34m,\u001b[0m \u001b[0;34m'Delhi'\u001b[0m\u001b[0;34m]\u001b[0m\u001b[0;34m\u001b[0m\u001b[0;34m\u001b[0m\u001b[0m\n\u001b[0;32m----> 3\u001b[0;31m \u001b[0mprint\u001b[0m\u001b[0;34m(\u001b[0m\u001b[0mcities\u001b[0m\u001b[0;34m.\u001b[0m\u001b[0mindex\u001b[0m\u001b[0;34m(\u001b[0m\u001b[0;34m\"Toronto\"\u001b[0m\u001b[0;34m)\u001b[0m\u001b[0;34m)\u001b[0m\u001b[0;34m\u001b[0m\u001b[0;34m\u001b[0m\u001b[0m\n\u001b[0m",
      "\u001b[0;31mValueError\u001b[0m: 'Toronto' is not in list"
     ]
    }
   ],
   "source": [
    "# Cause a ValueError using the city of Toronto\n",
    "cities = ['New York', 'London', 'Beijing', 'Tokyo', 'Delhi']\n",
    "print(cities.index(\"Toronto\"))"
   ]
  },
  {
   "cell_type": "markdown",
   "metadata": {},
   "source": [
    "Sort the list *in place* in reverse alphabetical order (i.e. z...a) and then print the sorted list"
   ]
  },
  {
   "cell_type": "code",
   "execution_count": 84,
   "metadata": {},
   "outputs": [
    {
     "name": "stdout",
     "output_type": "stream",
     "text": [
      "<built-in method reverse of list object at 0x7f38f2371840>\n"
     ]
    }
   ],
   "source": [
    "cities = ['New York', 'London', 'Beijing', 'Tokyo', 'Delhi']\n",
    "print(cities.reverse)"
   ]
  },
  {
   "cell_type": "markdown",
   "metadata": {},
   "source": [
    "The output from this should be: `['Tokyo', 'New York', 'London', 'Delhi', 'Beijing']`"
   ]
  },
  {
   "cell_type": "markdown",
   "metadata": {},
   "source": [
    "#### 6.3 Adding/Removing Values\n",
    "\n",
    "Add the city of Toronto to the list after New York in the *sorted* list."
   ]
  },
  {
   "cell_type": "code",
   "execution_count": 86,
   "metadata": {},
   "outputs": [
    {
     "name": "stdout",
     "output_type": "stream",
     "text": [
      "['Tokyo', 'New York', 'Toronto', 'London', 'Delhi', 'Beijing']\n"
     ]
    }
   ],
   "source": [
    "# Just in case you make a mistake...\n",
    "cities = [\"Tokyo\", \"New York\", \"London\", \"Delhi\", \"Beijing\"]\n",
    "\n",
    "cities.insert(2,'Toronto')\n",
    "print(cities)"
   ]
  },
  {
   "cell_type": "markdown",
   "metadata": {},
   "source": [
    "The output should be: `['Tokyo', 'New York', 'Toronto', 'London', 'Delhi', 'Beijing']`\n",
    "\n",
    "*Pop* New York from the list *without* specifying its index (i.e. the number `1` should *not* appear in your code). # Print out the value that you popped and the print out the cities list to check you've done the right thing..."
   ]
  },
  {
   "cell_type": "code",
   "execution_count": 91,
   "metadata": {},
   "outputs": [
    {
     "name": "stdout",
     "output_type": "stream",
     "text": [
      "['Tokyo', 'Toronto', 'London', 'Delhi', 'Beijing']\n"
     ]
    }
   ],
   "source": [
    "cities = ['Tokyo', 'New York', 'Toronto', 'London', 'Delhi', 'Beijing']\n",
    "cities.remove(\"New York\")\n",
    "\n",
    "print(cities)"
   ]
  },
  {
   "cell_type": "markdown",
   "metadata": {},
   "source": [
    "The output should be:\n",
    "```python\n",
    "New York\n",
    "['Tokyo', 'Toronto', 'London', 'Delhi', 'Beijing']\n",
    "```\n",
    "\n",
    "Finally, how can you check if the city of Moscow is in the list and let the user know if it is or is not?"
   ]
  },
  {
   "cell_type": "code",
   "execution_count": 100,
   "metadata": {},
   "outputs": [
    {
     "data": {
      "text/plain": [
       "0"
      ]
     },
     "execution_count": 100,
     "metadata": {},
     "output_type": "execute_result"
    }
   ],
   "source": [
    "cities.index('Tokyo')"
   ]
  },
  {
   "attachments": {
    "367d3c9d-7daf-43b2-a445-2851435f2f70.png": {
     "image/png": "[encoded data removed]"
    },
    "374df5c3-7c19-4992-8c24-550e3e2ef2de.png": {
     "image/png": "[encoded data removed]"
    },
    "65008087-24a5-4779-8eb3-4f90f941f490.png": {
     "image/png": "[encoded data removed]"
    },
    "672d7c9f-625f-4963-925f-4109fa1843ef.png": {
     "image/png": "[encoded data removed]"
    },
    "ea24e574-53ff-429f-9d71-4ce9990fe228.png": {
     "image/png": "[encoded data removed]"
    }
   },
   "cell_type": "markdown",
   "metadata": {},
   "source": [
    "## Task 7: Back to the Shell\n",
    "\n",
    "Although it's possible to investigate files using Python directly, it's much faster and more flexible to look at new data using the Terminal. This is a _lot_ to fit into one practical, so feel free to return to this task later in the week, but I'd like you to start exploring [this data set](https://raw.githubusercontent.com/jreades/i2p/master/data/2020-08-24-sample-listings-simple.csv) using only the Terminal or Git Bash. The idea is to contrast the command line tools with Excel on a file that is _still manageable_ in Excel before we apply the same approach to a file that is no longer really manageable in Excel.\n",
    "\n",
    "So the steps are:\n",
    "1. Download the file and ensure it's saved as CSV.\n",
    "2. Using the Terminal/Git Bash (which I'm going to call the **shell** from here on out) move it to a folder _beneath_ your Dockerfile or the place where you launched Jupyter (e.g. `mv ~/Downloads/2020-08-24-sample-listings-simple.csv ~/Documents/CASA/modules/`)\n",
    "3. Open it in Excel for reference\n",
    "4. Using the shell, produce the following statistics on the file:\n",
    "   - How many rows are in the data set?![image.png](attachment:65008087-24a5-4779-8eb3-4f90f941f490.png)\n",
    "   - What are the names of the columns?![image.png](attachment:672d7c9f-625f-4963-925f-4109fa1843ef.png)\n",
    "   - How many 'Entire home/apt' listings are there?![image.png](attachment:367d3c9d-7daf-43b2-a445-2851435f2f70.png)\n",
    "   - How many listings mention that they are 'large'?!![image.png](attachment:ea24e574-53ff-429f-9d71-4ce9990fe228.png)\n",
    "   - Which listing is for \\$798 a night?![image.png](attachment:374df5c3-7c19-4992-8c24-550e3e2ef2de.png)\n",
    "5. Compare your answers with what you'd get looking in Excel.\n",
    "   - If there are differences, can you explain them?"
   ]
  },
  {
   "cell_type": "markdown",
   "metadata": {},
   "source": [
    "### You're Done!\n",
    "\n",
    "This is quite a lot to get through. If you've managed it in under 2 hours then *congratulations*! Either you must have paid a lot of attention when doing Code Camp, or you might want to check in with us as to whether you should really be doing this module...\n",
    "\n",
    "#### No Wait, One More Thing...\n",
    "\n",
    "You now want to push your completed notebook to your GitHub reposistory. Using the Terminal or Git Bash you need to:\n",
    "1. Navigate (if you've not got a shell already open there) to `~/Documents/CASA/modules/<your repository>`.\n",
    "2. Check the status of your notebooks using `git status` (you should see that `Practical-02-Foundations_1.ipynb has been modified`).\n",
    "3. Add this changed notebook to git using `git add  Practical-02-Foundations_1.ipynb`\n",
    "4. Commit this changed notebook with a message using `git commit -m \"<your message here... but don't use a !>\"`\n",
    "5. Push this change to GitHub using: `git push`\n",
    "\n",
    "You should now be able to visit your repository on [GitHub](https://github.com/) and see that your changes are now stored there as well!"
   ]
  },
  {
   "cell_type": "markdown",
   "metadata": {},
   "source": [
    "<div style=\"border: dotted 1px yellow; padding: 10px; margin: 5px; background-color: rgb(255,236,184); color: rgb(156,121,26)\"><i>Note</i>: If you are using Docker then you can also save your work as a PDF using: <tt>File</tt> > <tt>Export Notebook As...</tt> (this does not work for notebooks with lots of complex formatting).</div>"
   ]
  },
  {
   "cell_type": "markdown",
   "metadata": {},
   "source": [
    "\n",
    "### Credits!\n",
    "\n",
    "#### Contributors:\n",
    "The following individuals have contributed to these teaching materials: James Millington (james.millington@kcl.ac.uk)\n",
    "\n",
    "#### License\n",
    "These teaching materials are licensed under a mix of the MIT and CC-BY licenses...\n",
    "\n",
    "#### Acknowledgements:\n",
    "Supported by the [Royal Geographical Society](https://www.rgs.org/HomePage.htm) (with the Institute of British Geographers) with a Ray Y Gildea Jr Award.\n",
    "\n",
    "#### Potential Dependencies:\n",
    "This notebook may depend on the following libraries: None\n"
   ]
  }
 ],
 "metadata": {
  "anaconda-cloud": {},
  "geopyter": {
   "Contributors": [
    "James Millington (james.millington@kcl.ac.uk)"
   ],
   "git": {
    "active_branch": "master",
    "author.name": "Jon Reades",
    "authored_date": "2017-08-17 19:06:58",
    "committed_date": "2017-08-17 19:06:58",
    "committer.name": "Jon Reades",
    "sha": "5e3b396ae18a982d693c4bfd86c721c7e1e21051"
   },
   "libs": {}
  },
  "kernelspec": {
   "display_name": "Python 3 (ipykernel)",
   "language": "python",
   "name": "python3"
  },
  "language_info": {
   "codemirror_mode": {
    "name": "ipython",
    "version": 3
   },
   "file_extension": ".py",
   "mimetype": "text/x-python",
   "name": "python",
   "nbconvert_exporter": "python",
   "pygments_lexer": "ipython3",
   "version": "3.9.6"
  }
 },
 "nbformat": 4,
 "nbformat_minor": 4
}
